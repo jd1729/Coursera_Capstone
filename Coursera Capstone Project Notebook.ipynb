{
 "cells": [
  {
   "cell_type": "markdown",
   "metadata": {},
   "source": [
    "# Coursera Capstone Project\n",
    "This notebook will be used for the **Coursera Capstone Project**"
   ]
  },
  {
   "cell_type": "code",
   "execution_count": 5,
   "metadata": {
    "scrolled": true
   },
   "outputs": [
    {
     "name": "stdout",
     "output_type": "stream",
     "text": [
      "Collecting pandas\n",
      "  Downloading https://files.pythonhosted.org/packages/f6/d5/2fc6f830ccf448aebce88f3d7e3884362e175138e19b65c13743d7dc29ef/pandas-1.1.3-cp37-cp37m-win32.whl (7.8MB)\n",
      "Collecting numpy>=1.15.4 (from pandas)\n",
      "  Downloading https://files.pythonhosted.org/packages/75/5d/e8bb3a952f72176912b2d05f7da9775b1c9a7e78eae2f6dc8e9d84b031ef/numpy-1.19.2-cp37-cp37m-win32.whl (10.9MB)\n",
      "Requirement already satisfied: python-dateutil>=2.7.3 in c:\\users\\jaska\\appdata\\local\\programs\\python\\python37-32\\lib\\site-packages (from pandas) (2.8.1)\n",
      "Collecting pytz>=2017.2 (from pandas)\n",
      "  Downloading https://files.pythonhosted.org/packages/4f/a4/879454d49688e2fad93e59d7d4efda580b783c745fd2ec2a3adf87b0808d/pytz-2020.1-py2.py3-none-any.whl (510kB)\n",
      "Requirement already satisfied: six>=1.5 in c:\\users\\jaska\\appdata\\local\\programs\\python\\python37-32\\lib\\site-packages (from python-dateutil>=2.7.3->pandas) (1.15.0)\n",
      "Installing collected packages: numpy, pytz, pandas\n",
      "Successfully installed numpy-1.19.2 pandas-1.1.3 pytz-2020.1\n",
      "Note: you may need to restart the kernel to use updated packages.\n"
     ]
    },
    {
     "name": "stderr",
     "output_type": "stream",
     "text": [
      "WARNING: You are using pip version 19.2.1, however version 20.2.4 is available.\n",
      "You should consider upgrading via the 'python -m pip install --upgrade pip' command.\n"
     ]
    }
   ],
   "source": [
    "pip install pandas"
   ]
  },
  {
   "cell_type": "code",
   "execution_count": 9,
   "metadata": {},
   "outputs": [],
   "source": [
    "import pandas as pd\n",
    "import numpy as np"
   ]
  },
  {
   "cell_type": "code",
   "execution_count": 10,
   "metadata": {},
   "outputs": [
    {
     "name": "stdout",
     "output_type": "stream",
     "text": [
      "Hello Capstone Project Course\n"
     ]
    }
   ],
   "source": [
    "print('Hello Capstone Project Course')"
   ]
  }
 ],
 "metadata": {
  "kernelspec": {
   "display_name": "Python 3",
   "language": "python",
   "name": "python3"
  },
  "language_info": {
   "codemirror_mode": {
    "name": "ipython",
    "version": 3
   },
   "file_extension": ".py",
   "mimetype": "text/x-python",
   "name": "python",
   "nbconvert_exporter": "python",
   "pygments_lexer": "ipython3",
   "version": "3.7.4"
  }
 },
 "nbformat": 4,
 "nbformat_minor": 4
}
